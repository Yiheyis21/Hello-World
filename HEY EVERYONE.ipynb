{
 "cells": [
  {
   "cell_type": "code",
   "execution_count": null,
   "metadata": {},
   "outputs": [],
   "source": [
    "#check if the given number is positive negative or zero\n",
    "x = int(input('enter'))\n",
    "if x > 0:\n",
    "    print('the number is positive' ) \n",
    "elif x < 0:\n",
    "    print('the number is negative') \n",
    "else:\n",
    "    print('x is neither positive nor negative')\n",
    "\n",
    "\n",
    "\n"
   ]
  },
  {
   "cell_type": "code",
   "execution_count": null,
   "metadata": {},
   "outputs": [],
   "source": [
    "#che the first given number is divisible by the second given number\n",
    "x = int(input('enter first number'))\n",
    "y = int(input('enter second number'))\n",
    "if x % y == 0:\n",
    "    print('the number is divisible by the second')\n",
    "else:\n",
    "    print('the first number is not divisible by the second')\n"
   ]
  },
  {
   "cell_type": "code",
   "execution_count": 36,
   "metadata": {},
   "outputs": [
    {
     "ename": "TypeError",
     "evalue": "'str' object is not callable",
     "output_type": "error",
     "traceback": [
      "\u001b[1;31m---------------------------------------------------------------------------\u001b[0m",
      "\u001b[1;31mTypeError\u001b[0m                                 Traceback (most recent call last)",
      "Cell \u001b[1;32mIn[36], line 2\u001b[0m\n\u001b[0;32m      1\u001b[0m x \u001b[38;5;241m=\u001b[39m \u001b[38;5;28minput\u001b[39m(\u001b[38;5;124m'\u001b[39m\u001b[38;5;124menter your favorite word\u001b[39m\u001b[38;5;124m'\u001b[39m )\n\u001b[1;32m----> 2\u001b[0m \u001b[38;5;28;01mif\u001b[39;00m \u001b[43mx\u001b[49m\u001b[43m(\u001b[49m\u001b[38;5;241;43m1\u001b[39;49m\u001b[43m,\u001b[49m\u001b[38;5;241;43m100\u001b[39;49m\u001b[43m)\u001b[49m \u001b[38;5;241m==\u001b[39m [\u001b[38;5;124m'\u001b[39m\u001b[38;5;124ma\u001b[39m\u001b[38;5;124m'\u001b[39m,\u001b[38;5;124m'\u001b[39m\u001b[38;5;124me\u001b[39m\u001b[38;5;124m'\u001b[39m,\u001b[38;5;124m'\u001b[39m\u001b[38;5;124mi\u001b[39m\u001b[38;5;124m'\u001b[39m,\u001b[38;5;124m'\u001b[39m\u001b[38;5;124mo\u001b[39m\u001b[38;5;124m'\u001b[39m,\u001b[38;5;124m'\u001b[39m\u001b[38;5;124mu\u001b[39m\u001b[38;5;124m'\u001b[39m]:\n\u001b[0;32m      3\u001b[0m     \u001b[38;5;28mprint\u001b[39m(\u001b[38;5;124m'\u001b[39m\u001b[38;5;124mthere is vowel in the word\u001b[39m\u001b[38;5;124m'\u001b[39m)\n",
      "\u001b[1;31mTypeError\u001b[0m: 'str' object is not callable"
     ]
    }
   ],
   "source": [
    "#\n",
    "x = input('enter your favorite word' )\n",
    "if x(1,100) == ['a','e','i','o','u']:\n",
    "    \n",
    "    print('there is vowel in the word')"
   ]
  },
  {
   "cell_type": "code",
   "execution_count": 37,
   "metadata": {},
   "outputs": [
    {
     "name": "stdout",
     "output_type": "stream",
     "text": [
      "the number is odd\n"
     ]
    }
   ],
   "source": [
    "#check if a number is odd or even\n",
    "x = int(input('enter a number'))\n",
    "if x%2 == 0:\n",
    "    print('the number is even')\n",
    "elif x == 0:\n",
    "    print('0 is neither even nor odd')\n",
    "else:\n",
    "    print('the number is odd')\n"
   ]
  },
  {
   "cell_type": "code",
   "execution_count": 40,
   "metadata": {},
   "outputs": [
    {
     "name": "stdout",
     "output_type": "stream",
     "text": [
      "enter valid age\n"
     ]
    }
   ],
   "source": [
    "#determine if the person is eligible to vote.\n",
    "x = int(input('Enter your age'))\n",
    "if x >= 18:\n",
    "    print('you are eligible to vote')\n",
    "elif x >= 0 and x< 18:\n",
    "    print('you are not eligible to vote')\n",
    "else:\n",
    "    print('enter valid age')"
   ]
  },
  {
   "cell_type": "code",
   "execution_count": 42,
   "metadata": {},
   "outputs": [
    {
     "name": "stdout",
     "output_type": "stream",
     "text": [
      "0 is zero\n"
     ]
    }
   ],
   "source": [
    "#classify the number as a positive,negative,zero.\n",
    "x = int(input('enter a number'))\n",
    "if x > 0:\n",
    "    print(x ,'is positive')\n",
    "elif x < 0:\n",
    "    print(x,'is negative')\n",
    "else:\n",
    "    print(x,'is zero')"
   ]
  },
  {
   "cell_type": "code",
   "execution_count": 53,
   "metadata": {},
   "outputs": [
    {
     "name": "stdout",
     "output_type": "stream",
     "text": [
      "you got A\n"
     ]
    }
   ],
   "source": [
    "#determine the grade of a student\n",
    "import math\n",
    "x = float((input(' enter a number')))\n",
    "y = math.ceil(x)\n",
    "if y >= 90 and y <=100:\n",
    "    print('you got A')\n",
    "elif y >=80 and y < 89:\n",
    "    print('you got B')\n",
    "elif y >=70 and y <= 79:\n",
    "    print('you got C')\n",
    "elif y >=60 and y <= 69:\n",
    "    print('you got D')\n",
    "elif y >=0 and y < 60:\n",
    "    print('you got F')\n",
    "else:\n",
    "    print('enter a valid grade')"
   ]
  },
  {
   "cell_type": "code",
   "execution_count": 56,
   "metadata": {},
   "outputs": [
    {
     "name": "stdout",
     "output_type": "stream",
     "text": [
      "the year is leap year\n"
     ]
    }
   ],
   "source": [
    "#write the program that determine if the given year is a leap year\n",
    "x = int(input('enter the year'))\n",
    "if x % 4 == 0:\n",
    "    if x % 100 == 0 and x % 400 != 0:\n",
    "       print('the year is not leap year')\n",
    "    else:\n",
    "        print('the year is leap year')\n",
    "else:\n",
    "    print('the year is leap year')"
   ]
  },
  {
   "cell_type": "code",
   "execution_count": 58,
   "metadata": {},
   "outputs": [
    {
     "name": "stdout",
     "output_type": "stream",
     "text": [
      "the point is in first quadrant\n"
     ]
    }
   ],
   "source": [
    "#check if the point (x,y) lies in which quadrant\n",
    "x = int(input('enter x component'))\n",
    "y = int(input('enter y component'))\n",
    "\n",
    "if x > 0 and y > 0:\n",
    "    print('the point is in first quadrant')\n",
    "elif x < 0 and y > 0:\n",
    "    print('the point is second quadrant')\n",
    "elif x < 0 and y < 0:\n",
    "    print('the point is third quadrant')\n",
    "else:\n",
    "    print('the point is fourth quadrant')"
   ]
  },
  {
   "cell_type": "code",
   "execution_count": 72,
   "metadata": {},
   "outputs": [
    {
     "name": "stdout",
     "output_type": "stream",
     "text": [
      "1\n",
      "2\n",
      "3\n",
      "4\n",
      "5\n",
      "6\n",
      "7\n",
      "8\n",
      "9\n",
      "10\n"
     ]
    }
   ],
   "source": [
    "#print the first 10 natiral numbers using for loop.\n",
    "for i in range(1,11):\n",
    "    print(i)"
   ]
  },
  {
   "cell_type": "code",
   "execution_count": 77,
   "metadata": {},
   "outputs": [
    {
     "name": "stdout",
     "output_type": "stream",
     "text": [
      "1\n",
      "4\n",
      "8\n",
      "13\n",
      "18\n",
      "84\n",
      "87\n"
     ]
    }
   ],
   "source": [
    "#calculate the sum of all elements in a list\n",
    "x = [1,3,4,5,5,66,3]\n",
    "sum = 0\n",
    "for i in x:\n",
    "    sum += i\n",
    "    print(sum)\n"
   ]
  },
  {
   "cell_type": "code",
   "execution_count": 80,
   "metadata": {},
   "outputs": [
    {
     "name": "stdout",
     "output_type": "stream",
     "text": [
      "h\n",
      "i\n",
      " \n",
      " \n",
      "t\n",
      "e\n",
      "a\n",
      "c\n",
      "h\n",
      "e\n",
      "r\n"
     ]
    }
   ],
   "source": [
    "#print each character of string on a new line.\n",
    "x = input('enter your charachter')\n",
    "for i in x:\n",
    "    print(i)"
   ]
  },
  {
   "cell_type": "code",
   "execution_count": 1,
   "metadata": {},
   "outputs": [
    {
     "name": "stdout",
     "output_type": "stream",
     "text": [
      "40320\n"
     ]
    }
   ],
   "source": [
    "#find the factorial of a given number using for loop.\n",
    "x = int(input('give a number'))\n",
    "factorial = 1\n",
    "if x == 0:\n",
    "    print('the factorial of 0 is 1')\n",
    "elif x <=0:\n",
    "    print('sorry the negative  numbers have no factorial')\n",
    "else:\n",
    "    for i in range(1,x+1) :\n",
    "        factorial*=i\n",
    "    print(factorial)\n",
    "     \n",
    "    \n"
   ]
  },
  {
   "cell_type": "code",
   "execution_count": 10,
   "metadata": {},
   "outputs": [
    {
     "name": "stdout",
     "output_type": "stream",
     "text": [
      "1\n",
      "2\n",
      "3\n",
      "4\n",
      "5\n",
      "6\n",
      "7\n",
      "8\n",
      "9\n",
      "10\n"
     ]
    }
   ],
   "source": [
    "#print the first 10 natural numbers using while loop.\n",
    "count = 1\n",
    "while count  <= 10:\n",
    "    print(count)\n",
    "    count+=1"
   ]
  },
  {
   "cell_type": "code",
   "execution_count": 38,
   "metadata": {},
   "outputs": [
    {
     "name": "stdout",
     "output_type": "stream",
     "text": [
      "you stopped it\n"
     ]
    }
   ],
   "source": [
    "#keep accepting user input until they enter 'exit'.\n",
    "x = input('enter your favorite letter')\n",
    "y = 'exit'\n",
    "while x != y:\n",
    "       x = input('enter your favorite letter')\n",
    "print('you stopped it')\n"
   ]
  },
  {
   "cell_type": "code",
   "execution_count": 40,
   "metadata": {},
   "outputs": [
    {
     "name": "stdout",
     "output_type": "stream",
     "text": [
      "the sum of the given digit is 7\n"
     ]
    }
   ],
   "source": [
    "#calculate the sum of the digits of the given number.\n",
    "number = int(input('enter a number'))\n",
    "sum = 0\n",
    "while number > 0:\n",
    "    remainder = number % 10\n",
    "    sum+=remainder\n",
    "    number = number//10\n",
    "print('the sum of the given digit is',sum)"
   ]
  },
  {
   "cell_type": "code",
   "execution_count": 54,
   "metadata": {},
   "outputs": [
    {
     "ename": "ValueError",
     "evalue": "invalid literal for int() with base 10: 'H'",
     "output_type": "error",
     "traceback": [
      "\u001b[1;31m---------------------------------------------------------------------------\u001b[0m",
      "\u001b[1;31mValueError\u001b[0m                                Traceback (most recent call last)",
      "Cell \u001b[1;32mIn[54], line 1\u001b[0m\n\u001b[1;32m----> 1\u001b[0m x \u001b[38;5;241m=\u001b[39m \u001b[38;5;28;43mint\u001b[39;49m\u001b[43m(\u001b[49m\u001b[38;5;28;43minput\u001b[39;49m\u001b[43m(\u001b[49m\u001b[38;5;124;43m'\u001b[39;49m\u001b[38;5;124;43menter first number\u001b[39;49m\u001b[38;5;124;43m'\u001b[39;49m\u001b[43m)\u001b[49m\u001b[43m)\u001b[49m\n\u001b[0;32m      2\u001b[0m y \u001b[38;5;241m=\u001b[39m \u001b[38;5;28mint\u001b[39m(\u001b[38;5;28minput\u001b[39m(\u001b[38;5;124m'\u001b[39m\u001b[38;5;124menter the second number\u001b[39m\u001b[38;5;124m'\u001b[39m))\n\u001b[0;32m      3\u001b[0m devisor \u001b[38;5;241m=\u001b[39m \u001b[38;5;241m1\u001b[39m\n",
      "\u001b[1;31mValueError\u001b[0m: invalid literal for int() with base 10: 'H'"
     ]
    }
   ],
   "source": [
    "x = int(input('enter first number'))\n",
    "y = int(input('enter the second number'))\n",
    "devisor = 1\n",
    "if x < y:\n",
    "   while  devisor == range(1,x+1):\n",
    "      if x % devisor == 0 and y % devisor == 0:\n",
    "        GCF = devisor\n",
    "        devisor+=1\n",
    "      elif x % devisor != 0 or y % devisor != 0:\n",
    "        GCF = GCF\n",
    "        devisor+=1\n",
    "elif x > y:\n",
    "   while  devisor == range(1,y):\n",
    "      if x % devisor == 0 and y % devisor == 0:\n",
    "        GCF = devisor\n",
    "        devisor+=1\n",
    "      elif x % devisor != 0 or y % devisor != 0:\n",
    "        GCF = GCF\n",
    "        devisor+=1\n",
    "print(GCF)\n",
    " "
   ]
  },
  {
   "cell_type": "code",
   "execution_count": 61,
   "metadata": {},
   "outputs": [
    {
     "name": "stdout",
     "output_type": "stream",
     "text": [
      "10\n",
      "9\n",
      "8\n",
      "7\n",
      "6\n",
      "5\n",
      "4\n",
      "3\n",
      "2\n",
      "1\n",
      "0\n"
     ]
    }
   ],
   "source": [
    "#simulate the countdown from 10 to 0.\n",
    "count = 10\n",
    "while count >= 0:\n",
    "    print(count)\n",
    "    count-=1\n"
   ]
  },
  {
   "cell_type": "code",
   "execution_count": 15,
   "metadata": {},
   "outputs": [
    {
     "name": "stdout",
     "output_type": "stream",
     "text": [
      "1\t2\t3\t4\t5\t\n",
      "2\t4\t6\t8\t10\t\n",
      "3\t6\t9\t12\t15\t\n",
      "4\t8\t12\t16\t20\t\n",
      "5\t10\t15\t20\t25\t\n"
     ]
    }
   ],
   "source": [
    "\n",
    "#print multiplicatio table of the given number.\n",
    "def multiplication_table(n):\n",
    "    i = 1\n",
    "    while i <= n:\n",
    "        j = 1\n",
    "        while j <= n:\n",
    "            print(i * j, end ='\\t')\n",
    "            j+=1\n",
    "        print()\n",
    "        i += 1\n",
    "x = int(input('enter your number'))\n",
    "multiplication_table(x)"
   ]
  },
  {
   "cell_type": "code",
   "execution_count": 34,
   "metadata": {},
   "outputs": [
    {
     "name": "stdout",
     "output_type": "stream",
     "text": [
      "*\n",
      "**\n",
      "***\n",
      "****\n",
      "*****\n",
      "******\n"
     ]
    }
   ],
   "source": [
    "# the following pattern using nested loop.\n",
    "n = int(input('enter a number'))\n",
    "i = 1 \n",
    "while i<=n:\n",
    "  for i in range(1,n+1):\n",
    "    print(i*'*')\n",
    "    i+=1"
   ]
  },
  {
   "cell_type": "code",
   "execution_count": 21,
   "metadata": {},
   "outputs": [
    {
     "name": "stdout",
     "output_type": "stream",
     "text": [
      "1\n",
      "2\n",
      "3\n",
      "4\n",
      "5\n",
      "6\n",
      "7\n",
      "8\n",
      "9\n"
     ]
    }
   ],
   "source": []
  }
 ],
 "metadata": {
  "kernelspec": {
   "display_name": "Python 3",
   "language": "python",
   "name": "python3"
  },
  "language_info": {
   "codemirror_mode": {
    "name": "ipython",
    "version": 3
   },
   "file_extension": ".py",
   "mimetype": "text/x-python",
   "name": "python",
   "nbconvert_exporter": "python",
   "pygments_lexer": "ipython3",
   "version": "3.12.3"
  }
 },
 "nbformat": 4,
 "nbformat_minor": 2
}
